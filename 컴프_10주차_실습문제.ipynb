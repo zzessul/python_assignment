{
  "nbformat": 4,
  "nbformat_minor": 0,
  "metadata": {
    "colab": {
      "provenance": [],
      "authorship_tag": "ABX9TyM5cgiJ08Otoof7oeopySKo",
      "include_colab_link": true
    },
    "kernelspec": {
      "name": "python3",
      "display_name": "Python 3"
    },
    "language_info": {
      "name": "python"
    }
  },
  "cells": [
    {
      "cell_type": "markdown",
      "metadata": {
        "id": "view-in-github",
        "colab_type": "text"
      },
      "source": [
        "<a href=\"https://colab.research.google.com/github/zzessul/python_assignment/blob/main/%EC%BB%B4%ED%94%84_10%EC%A3%BC%EC%B0%A8_%EC%8B%A4%EC%8A%B5%EB%AC%B8%EC%A0%9C.ipynb\" target=\"_parent\"><img src=\"https://colab.research.google.com/assets/colab-badge.svg\" alt=\"Open In Colab\"/></a>"
      ]
    },
    {
      "cell_type": "code",
      "execution_count": null,
      "metadata": {
        "id": "xu0gjwnbqt06"
      },
      "outputs": [],
      "source": [
        "#리스트 생성\n",
        "name = ['카페아메리카노', '돌체라떼', '카페모카', '화이트초코모카']\n",
        "code = ['CA', 'DL', 'CM', 'WM']\n",
        "price = [4500, 5900, 5500, 5900]\n",
        "cnt = [0, 0, 0, 0]\n",
        "total = [0, 0, 0, 0]\n",
        "\n",
        "#하루 매출을 계산하는 코드\n",
        "while True:\n",
        "  c = input(\"주문 코드 입력: \")\n",
        "  if c == 'CA':\n",
        "    print(f\"주문하신 음료는 {name[0]}이고, 가격은 {price[0]}입니다.\")\n",
        "    cnt[0] += 1\n",
        "    total[0] += price[0]\n",
        "  elif c == 'DL':\n",
        "    print(f\"주문하신 음료는 {name[1]}이고, 가격은 {price[1]}입니다.\")\n",
        "    cnt[1] += 1\n",
        "    total[1] += price[1]\n",
        "  elif c == 'CM':\n",
        "    print(f\"주문하신 음료는 {name[2]}이고, 가격은 {price[2]}입니다.\")\n",
        "    cnt[2] += 1\n",
        "    total[2] += price[2]\n",
        "  elif c == 'WM':\n",
        "    print(f\"주문하신 음료는 {name[3]}이고, 가격은 {price[3]}입니다.\")\n",
        "    cnt[3] += 1\n",
        "    total[3] += price[3]\n",
        "  elif c == 'Q':\n",
        "    break\n",
        "  else:\n",
        "    continue\n",
        "\n",
        "#하루 매출을 출력하는 코드\n",
        "print(\"=\" * 49)\n",
        "print(\"음료\" + \" \"*14 + \"판매수량\" + \"  \" + \"판매액\")\n",
        "print(\"=\" * 49)\n",
        "print(f\"{name[0]}    {cnt[0]}         {total[0]}\")\n",
        "print(f\"{name[1]}          {cnt[1]}         {total[1]}\")\n",
        "print(f\"{name[2]}          {cnt[2]}         {total[2]}\")\n",
        "print(f\"{name[3]}    {cnt[3]}         {total[3]}\")\n",
        "print(\"=\" * 49)\n",
        "print(f\"판매 총액 : {total[0]+total[1]+total[2]+total[3]}\")"
      ]
    },
    {
      "cell_type": "code",
      "source": [
        "#빈 리스트 생성\n",
        "alpha = []\n",
        "\n",
        "#range함수를 사용해 alpha 리스트에 알파벳 소문자 추가\n",
        "for i in range(97, 110):\n",
        "  alpha.append(chr(i))\n",
        "\n",
        "#alpha 리스트 슬라이싱\n",
        "c_alpha1 = alpha[1:12]\n",
        "c_alpha2 = alpha[-1:-14:-1]\n",
        "c_alpha3 = alpha[:13:3]\n",
        "c_alpha4 = alpha[-1:-14:-3]\n",
        "c_alpha5 = alpha[2:12:3]\n",
        "c_alpha6 = alpha[8:1:-3]\n",
        "\n",
        "#c_alpha 리스트 문자열로 변환\n",
        "s_alpha1 = ''.join(c_alpha1)\n",
        "s_alpha2 = ''.join(c_alpha2)\n",
        "s_alpha3 = ''.join(c_alpha3)\n",
        "s_alpha4 = ''.join(c_alpha4)\n",
        "s_alpha5 = ''.join(c_alpha5)\n",
        "s_alpha6 = ''.join(c_alpha6)\n",
        "\n",
        "print(f\"alpha = {alpha}\")\n",
        "print(' ')\n",
        "print(f\"c_alpha1 = {c_alpha1}\")\n",
        "print(f\"c_alpha2 = {c_alpha2}\")\n",
        "print(f\"c_alpha3 = {c_alpha3}\")\n",
        "print(f\"c_alpha4 = {c_alpha4}\")\n",
        "print(f\"c_alpha5 = {c_alpha5}\")\n",
        "print(f\"c_alpha6 = {c_alpha6}\")\n",
        "print(' ')\n",
        "print(f\"s_alpha1 = {s_alpha1}\")\n",
        "print(f\"s_alpha2 = {s_alpha2}\")\n",
        "print(f\"s_alpha3 = {s_alpha3}\")\n",
        "print(f\"s_alpha4 = {s_alpha4}\")\n",
        "print(f\"s_alpha5 = {s_alpha5}\")\n",
        "print(f\"s_alpha6 = {s_alpha6}\")"
      ],
      "metadata": {
        "colab": {
          "base_uri": "https://localhost:8080/"
        },
        "id": "HE2mdYI9tppm",
        "outputId": "d67fcdd1-ec7e-4425-da4f-0ea0c2b4ff36"
      },
      "execution_count": null,
      "outputs": [
        {
          "output_type": "stream",
          "name": "stdout",
          "text": [
            "alpha = ['a', 'b', 'c', 'd', 'e', 'f', 'g', 'h', 'i', 'j', 'k', 'l', 'm']\n",
            " \n",
            "c_alpha1 = ['b', 'c', 'd', 'e', 'f', 'g', 'h', 'i', 'j', 'k', 'l']\n",
            "c_alpha2 = ['m', 'l', 'k', 'j', 'i', 'h', 'g', 'f', 'e', 'd', 'c', 'b', 'a']\n",
            "c_alpha3 = ['a', 'd', 'g', 'j', 'm']\n",
            "c_alpha4 = ['m', 'j', 'g', 'd', 'a']\n",
            "c_alpha5 = ['c', 'f', 'i', 'l']\n",
            "c_alpha6 = ['i', 'f', 'c']\n",
            " \n",
            "s_alpha1 = bcdefghijkl\n",
            "s_alpha2 = mlkjihgfedcba\n",
            "s_alpha3 = adgjm\n",
            "s_alpha4 = mjgda\n",
            "s_alpha5 = cfil\n",
            "s_alpha6 = ifc\n"
          ]
        }
      ]
    }
  ]
}