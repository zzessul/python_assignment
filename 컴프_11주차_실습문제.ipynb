{
  "cells": [
    {
      "cell_type": "markdown",
      "metadata": {
        "id": "view-in-github",
        "colab_type": "text"
      },
      "source": [
        "<a href=\"https://colab.research.google.com/github/zzessul/python_assignment/blob/main/%EC%BB%B4%ED%94%84_11%EC%A3%BC%EC%B0%A8_%EC%8B%A4%EC%8A%B5%EB%AC%B8%EC%A0%9C.ipynb\" target=\"_parent\"><img src=\"https://colab.research.google.com/assets/colab-badge.svg\" alt=\"Open In Colab\"/></a>"
      ]
    },
    {
      "cell_type": "code",
      "execution_count": null,
      "metadata": {
        "colab": {
          "base_uri": "https://localhost:8080/"
        },
        "id": "RtXwh0IbEp53",
        "outputId": "8635f250-b30e-4a2d-f6b9-ab5d86dda173"
      },
      "outputs": [
        {
          "name": "stdout",
          "output_type": "stream",
          "text": [
            "fruit_dic = {'apple': 4, 'mango': 10, 'banana': 3, 'kiwi': 4}\n",
            "============================================================\n",
            "확인할 과일 이름 : banana\n",
            "banana는(은) 냉장고 속에 있음\n",
            "=========================\n",
            "냉장고 속 과일의 종류와 개수\n",
            "=========================\n",
            "apple : 4개\n",
            "mango : 10개\n",
            "kiwi : 4개\n",
            "melon : 5개\n"
          ]
        }
      ],
      "source": [
        "#실습문제_01\n",
        "#빈 딕셔너리에 과일 항목 추가\n",
        "fruit_dic = {}\n",
        "fruit_dic['apple'] = 4\n",
        "fruit_dic['mango'] = 10\n",
        "fruit_dic['banana'] = 3\n",
        "fruit_dic['kiwi'] = 4\n",
        "print(f\"fruit_dic = {fruit_dic}\")\n",
        "\n",
        "print(\"=\" * 60) #구분선\n",
        "\n",
        "#냉장고 속 과일의 유무 확인\n",
        "name = input(\"확인할 과일 이름 : \")\n",
        "if name in fruit_dic:\n",
        "  print(f\"{name}는(은) 냉장고 속에 있음\")\n",
        "else:\n",
        "  print(f\"{name}는(은) 냉장고 속에 없음\")\n",
        "\n",
        "#'banana'를 꺼내고, 'melon'을 5개 사와서 냉장고에 넣음\n",
        "del fruit_dic['banana']\n",
        "fruit_dic['melon'] = 5\n",
        "\n",
        "print(\"=\" * 25) #구분선\n",
        "print(\"냉장고 속 과일의 종류와 개수\")\n",
        "print(\"=\" * 25) #구분선\n",
        "\n",
        "#냉장고 속 과일의 종류와 개수 출력\n",
        "for i in fruit_dic:\n",
        "  print(f\"{i} : {fruit_dic[i]}개\")"
      ]
    },
    {
      "cell_type": "code",
      "source": [
        "#실습문제_02\n",
        "#문자열 입력\n",
        "string = input(\"문자열 입력 : \")\n",
        "string = string.split()\n",
        "\n",
        "#정렬하여 출력\n",
        "str1 = sorted(string)\n",
        "\n",
        "#중복 출력 방지\n",
        "counted_words = set()\n",
        "\n",
        "for i in str1:\n",
        "  if i not in counted_words:\n",
        "    print(f\"{i} : {str1.count(i)}개\")\n",
        "    counted_words.add(i)"
      ],
      "metadata": {
        "colab": {
          "base_uri": "https://localhost:8080/"
        },
        "outputId": "7e6a982d-3a78-44d3-a138-97158297ad89",
        "id": "KDA3BYj7QGzj"
      },
      "execution_count": null,
      "outputs": [
        {
          "output_type": "stream",
          "name": "stdout",
          "text": [
            "문자열 입력 : I have a dream that one day every valley shall be exalted and every hill and mountain shall be made low\n",
            "I : 1개\n",
            "a : 1개\n",
            "and : 2개\n",
            "be : 2개\n",
            "day : 1개\n",
            "dream : 1개\n",
            "every : 2개\n",
            "exalted : 1개\n",
            "have : 1개\n",
            "hill : 1개\n",
            "low : 1개\n",
            "made : 1개\n",
            "mountain : 1개\n",
            "one : 1개\n",
            "shall : 2개\n",
            "that : 1개\n",
            "valley : 1개\n"
          ]
        }
      ]
    },
    {
      "cell_type": "code",
      "execution_count": null,
      "metadata": {
        "id": "xu0gjwnbqt06",
        "colab": {
          "base_uri": "https://localhost:8080/"
        },
        "outputId": "761602a4-fd44-4a45-987f-cee16cf9bedd"
      },
      "outputs": [
        {
          "output_type": "stream",
          "name": "stdout",
          "text": [
            "주문 코드 입력: CA\n",
            "주문하신 음료는 카페아메리카노이고, 가격은 4500입니다.\n",
            "주문 코드 입력: CM\n",
            "주문하신 음료는 카페모카이고, 가격은 5500입니다.\n",
            "주문 코드 입력: WM\n",
            "주문하신 음료는 화이트초코모카이고, 가격은 5900입니다.\n",
            "주문 코드 입력: DL\n",
            "주문하신 음료는 돌체라떼이고, 가격은 5900입니다.\n",
            "주문 코드 입력: DD\n",
            "주문 코드 입력: CA\n",
            "주문하신 음료는 카페아메리카노이고, 가격은 4500입니다.\n",
            "주문 코드 입력: CA\n",
            "주문하신 음료는 카페아메리카노이고, 가격은 4500입니다.\n",
            "주문 코드 입력: DL\n",
            "주문하신 음료는 돌체라떼이고, 가격은 5900입니다.\n",
            "주문 코드 입력: WM\n",
            "주문하신 음료는 화이트초코모카이고, 가격은 5900입니다.\n",
            "주문 코드 입력: Q\n",
            "=================================================\n",
            "음료              판매수량  판매액\n",
            "=================================================\n",
            "카페아메리카노    3         13500\n",
            "돌체라떼          2         11800\n",
            "카페모카          1         5500\n",
            "화이트초코모카    2         11800\n",
            "=================================================\n",
            "판매 총액 : 42600\n"
          ]
        }
      ],
      "source": [
        "#실습문제_03\n",
        "#딕셔너리 생성\n",
        "name = {'CA' : '카페아메리카노', 'DL' : '돌체라떼', 'CM' : '카페모카', 'WM' : '화이트초코모카'}\n",
        "code = {'CA' : 4500, 'DL' : 5900, 'CM' : 5500, 'WM' : 5900}\n",
        "cnt = {'CA' : 0, 'DL' : 0, 'CM' : 0, 'WM' : 0}\n",
        "total = {'CA' : 0, 'DL' : 0, 'CM' : 0, 'WM' : 0}\n",
        "\n",
        "\n",
        "#하루 매출을 계산하는 코드\n",
        "while True:\n",
        "  c = input(\"주문 코드 입력: \")\n",
        "  if c == 'CA':\n",
        "    print(f\"주문하신 음료는 {name['CA']}이고, 가격은 {code['CA']}입니다.\")\n",
        "    cnt['CA'] += 1\n",
        "    total['CA'] += code['CA']\n",
        "  elif c == 'DL':\n",
        "    print(f\"주문하신 음료는 {name['DL']}이고, 가격은 {code['DL']}입니다.\")\n",
        "    cnt['DL'] += 1\n",
        "    total['DL'] += code['DL']\n",
        "  elif c == 'CM':\n",
        "    print(f\"주문하신 음료는 {name['CM']}이고, 가격은 {code['CM']}입니다.\")\n",
        "    cnt['CM'] += 1\n",
        "    total['CM'] += code['CM']\n",
        "  elif c == 'WM':\n",
        "    print(f\"주문하신 음료는 {name['WM']}이고, 가격은 {code['WM']}입니다.\")\n",
        "    cnt['WM'] += 1\n",
        "    total['WM'] += code['WM']\n",
        "  elif c == 'Q':\n",
        "    break\n",
        "  else:\n",
        "    continue\n",
        "\n",
        "#하루 매출을 출력하는 코드\n",
        "print(\"=\" * 49)\n",
        "print(\"음료\" + \" \"*14 + \"판매수량\" + \"  \" + \"판매액\")\n",
        "print(\"=\" * 49)\n",
        "print(f\"{name['CA']}    {cnt['CA']}         {total['CA']}\")\n",
        "print(f\"{name['DL']}          {cnt['DL']}         {total['DL']}\")\n",
        "print(f\"{name['CM']}          {cnt['CM']}         {total['CM']}\")\n",
        "print(f\"{name['WM']}    {cnt['WM']}         {total['WM']}\")\n",
        "print(\"=\" * 49)\n",
        "print(f\"판매 총액 : {total['CA']+total['DL']+total['CM']+total['WM']}\")"
      ]
    },
    {
      "cell_type": "code",
      "source": [
        "#실습문제_04\n",
        "#문자열 입력\n",
        "string = input(\"문자열 입력 : \")\n",
        "string = string.split()\n",
        "print(' ') #구분 공백\n",
        "\n",
        "#중복을 포함한 단어 개수\n",
        "lst1 = []\n",
        "for i in string:\n",
        "  lst1.append(i)\n",
        "\n",
        "print(lst1)\n",
        "print(f\"단어 개수(중복포함) : {len(lst1)}개\")\n",
        "print(' ') #구분 공백\n",
        "\n",
        "#중복을 포함하지 않은 단어 개수\n",
        "lst2 = []\n",
        "counted_words = []\n",
        "overlap = []\n",
        "\n",
        "for j in string:\n",
        "  if j not in counted_words:\n",
        "    lst2.append(j)\n",
        "    counted_words.append(j)\n",
        "  else:\n",
        "    overlap.append(j)\n",
        "\n",
        "print(lst2)\n",
        "print(f\"단어 개수(중복미포함) : {len(lst2)}개\")\n",
        "print(' ') #구분 공백\n",
        "\n",
        "#중복된 단어 구하기\n",
        "print(f\"중복된 단어 : {overlap}\")"
      ],
      "metadata": {
        "colab": {
          "base_uri": "https://localhost:8080/"
        },
        "id": "3r9y2Bu0UVca",
        "outputId": "6c174dc7-ba13-49f1-abb3-ed4f060e43a9"
      },
      "execution_count": null,
      "outputs": [
        {
          "output_type": "stream",
          "name": "stdout",
          "text": [
            "문자열 입력 : I have a dream that one day every valley shall be exalted and every hill and mountain shall be made low\n",
            " \n",
            "['I', 'have', 'a', 'dream', 'that', 'one', 'day', 'every', 'valley', 'shall', 'be', 'exalted', 'and', 'every', 'hill', 'and', 'mountain', 'shall', 'be', 'made', 'low']\n",
            "단어 개수(중복포함) : 21개\n",
            " \n",
            "['I', 'have', 'a', 'dream', 'that', 'one', 'day', 'every', 'valley', 'shall', 'be', 'exalted', 'and', 'hill', 'mountain', 'made', 'low']\n",
            "단어 개수(중복미포함) : 17개\n",
            " \n",
            "중복된 단어 : ['every', 'and', 'shall', 'be']\n"
          ]
        }
      ]
    }
  ],
  "metadata": {
    "colab": {
      "provenance": [],
      "authorship_tag": "ABX9TyMxhM+tdqxj6j7P4bqHCl53",
      "include_colab_link": true
    },
    "kernelspec": {
      "display_name": "Python 3",
      "name": "python3"
    },
    "language_info": {
      "name": "python"
    }
  },
  "nbformat": 4,
  "nbformat_minor": 0
}