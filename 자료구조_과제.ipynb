{
  "nbformat": 4,
  "nbformat_minor": 0,
  "metadata": {
    "colab": {
      "provenance": [],
      "toc_visible": true,
      "authorship_tag": "ABX9TyO0QW0sIL5PtroSwG6BPQVh",
      "include_colab_link": true
    },
    "kernelspec": {
      "name": "python3",
      "display_name": "Python 3"
    },
    "language_info": {
      "name": "python"
    }
  },
  "cells": [
    {
      "cell_type": "markdown",
      "metadata": {
        "id": "view-in-github",
        "colab_type": "text"
      },
      "source": [
        "<a href=\"https://colab.research.google.com/github/zzessul/python_assignment/blob/main/%EC%9E%90%EB%A3%8C%EA%B5%AC%EC%A1%B0_%EA%B3%BC%EC%A0%9C.ipynb\" target=\"_parent\"><img src=\"https://colab.research.google.com/assets/colab-badge.svg\" alt=\"Open In Colab\"/></a>"
      ]
    },
    {
      "cell_type": "code",
      "execution_count": null,
      "metadata": {
        "colab": {
          "base_uri": "https://localhost:8080/"
        },
        "id": "4QxxnxV_1hwH",
        "outputId": "45d02173-5e9e-4268-f3fd-b4ea1a57211b"
      },
      "outputs": [
        {
          "output_type": "stream",
          "name": "stdout",
          "text": [
            "문자열 입력: 안녕하세요. 반갑습니다.\n",
            "문자열 출력: .다니습갑반 .요세하녕안\n"
          ]
        }
      ],
      "source": [
        "class ArrayStack :\n",
        "    def __init__( self, capacity ):\t        # 생성자 정의\n",
        "        self.capacity = capacity\t\t    # 용량(고정)\n",
        "        self.array = [None]*self.capacity\t# 요소들을 저장할 배열\n",
        "        self.top = -1\t\t\t            # 스택 상단의 인덱스\n",
        "\n",
        "    # 코드 1.2b: 스택 클래스의 연산들\n",
        "    def isEmpty( self ) :\n",
        "       return self.top == -1\n",
        "\n",
        "    def isFull( self ) :\n",
        "       return self.top == self.capacity-1\n",
        "\n",
        "    def push( self, item ):\n",
        "        if not self.isFull() :\n",
        "            self.top += 1\n",
        "            self.array[self.top] = item\n",
        "        else: pass              # overflow 예외는 처리하지 않았음\n",
        "\n",
        "    def pop( self ):\n",
        "        if not self.isEmpty():\n",
        "            self.top -= 1\n",
        "            return self.array[self.top+1]\n",
        "        else: pass              # underflow 예외는 처리하지 않았음\n",
        "\n",
        "    def peek( self ):\n",
        "        if not self.isEmpty():\n",
        "            return self.array[self.top]\n",
        "        else: pass              # underflow 예외는 처리하지 않았음\n",
        "\n",
        "    def __str__(self ) :\n",
        "        return str(self.array[0:self.top+1][::-1])\n",
        "\n",
        "    def size( self ) : return self.top+1\n",
        "\n",
        "s = ArrayStack(100)             # 스택 객체를 생성\n",
        "\n",
        "msg = input(\"문자열 입력: \")    # 문자열을 입력받음\n",
        "for c in msg :                  # 문자열의 각 문자 c에 대해\n",
        "    s.push(c)                   # c를 스택에 삽입\n",
        "\n",
        "print(\"문자열 출력: \", end='')\n",
        "while not s.isEmpty():          # 스택이 공백상태가 아니라면\n",
        "    print(s.pop(), end='')      # 하나의 요소를 꺼내서 출력\n",
        "print()\n"
      ]
    },
    {
      "cell_type": "code",
      "source": [
        "filename = \"ArrayStack.h\"\n",
        "infile = open(filename , \"r\")\n",
        "str = infile.read()\n",
        "infile.close()\n",
        "print(\"소스파일\", filename, \" ---> \", checkBrackets(str))\n",
        "\n",
        "class ArrayStack:\n",
        "    def __init__(self, capacity):\n",
        "        self.capacity = capacity\n",
        "        self.array = [None] * self.capacity\n",
        "        self.top = -1\n",
        "\n",
        "    def isEmpty(self):\n",
        "        return self.top == -1\n",
        "\n",
        "    def isFull(self):\n",
        "        return self.top == self.capacity - 1\n",
        "\n",
        "    def push(self, item):\n",
        "        if not self.isFull():\n",
        "            self.top += 1\n",
        "            self.array[self.top] = item\n",
        "\n",
        "    def pop(self):\n",
        "        if not self.isEmpty():\n",
        "            self.top -= 1\n",
        "            return self.array[self.top + 1]\n",
        "\n",
        "    def peek(self):\n",
        "        if not self.isEmpty():\n",
        "            return self.array[self.top]\n",
        "\n",
        "    def __str__(self):\n",
        "        return str(self.array[0:self.top + 1][::-1])\n",
        "\n",
        "    def size(self):\n",
        "        return self.top + 1\n",
        "\n",
        "def checkBrackets(statement):\n",
        "    stack = ArrayStack(100)\n",
        "    line_count = 1\n",
        "    char_count = 0\n",
        "\n",
        "    for line in statement.split('\\n'):\n",
        "        char_count = 0\n",
        "        for ch in line:\n",
        "            char_count += 1\n",
        "            if ch in \"{[(\":\n",
        "                stack.push((ch, line_count, char_count))\n",
        "            elif ch in \"}])\":\n",
        "                if stack.isEmpty():\n",
        "                    return (2, line_count, char_count)\n",
        "                left, line, char = stack.pop()\n",
        "                if (ch == \"}\" and left != \"{\") or (ch == \"]\" and left != \"[\") or (ch == \")\" and left != \"(\"):\n",
        "                    return (3, line, char)\n",
        "\n",
        "        line_count += 1\n",
        "\n",
        "    if not stack.isEmpty():\n",
        "        left, line, char = stack.pop()\n",
        "        return (1, line, char)\n",
        "\n",
        "    return 0\n",
        "\n",
        "    error_code = checkBrackets(source_code)\n",
        "    if error_code == 0:\n",
        "        print(\"괄호 매칭 성공\")\n",
        "    else:\n",
        "        error, line, char = error_code\n",
        "        if error == 1:\n",
        "            print(f\"에러: 조건 1 위반, (라인 {line}, 문자 {char})\")\n",
        "        elif error == 2:\n",
        "            print(f\"에러: 조건 2 위반, (라인 {line}, 문자 {char})\")\n",
        "        elif error == 3:\n",
        "            print(f\"에러: 조건 3 위반, (라인 {line}, 문자 {char})\")\n"
      ],
      "metadata": {
        "colab": {
          "base_uri": "https://localhost:8080/"
        },
        "id": "E776YL5DQ1K4",
        "outputId": "d9f1ccd7-4e5f-4256-d537-3740ef781f35"
      },
      "execution_count": null,
      "outputs": [
        {
          "output_type": "stream",
          "name": "stdout",
          "text": [
            "괄호 매칭 성공\n"
          ]
        }
      ]
    },
    {
      "cell_type": "code",
      "source": [
        "from google.colab import drive\n",
        "drive.mount('/content/drive')"
      ],
      "metadata": {
        "id": "I68XXKfxDDoP"
      },
      "execution_count": null,
      "outputs": []
    }
  ]
}