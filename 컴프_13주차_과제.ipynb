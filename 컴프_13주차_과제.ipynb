{
  "nbformat": 4,
  "nbformat_minor": 0,
  "metadata": {
    "colab": {
      "provenance": [],
      "authorship_tag": "ABX9TyPGB35cYmcUTh/++Y35KcpH",
      "include_colab_link": true
    },
    "kernelspec": {
      "name": "python3",
      "display_name": "Python 3"
    },
    "language_info": {
      "name": "python"
    }
  },
  "cells": [
    {
      "cell_type": "markdown",
      "metadata": {
        "id": "view-in-github",
        "colab_type": "text"
      },
      "source": [
        "<a href=\"https://colab.research.google.com/github/zzessul/python_assignment/blob/main/%EC%BB%B4%ED%94%84_13%EC%A3%BC%EC%B0%A8_%EA%B3%BC%EC%A0%9C.ipynb\" target=\"_parent\"><img src=\"https://colab.research.google.com/assets/colab-badge.svg\" alt=\"Open In Colab\"/></a>"
      ]
    },
    {
      "cell_type": "code",
      "execution_count": null,
      "metadata": {
        "id": "LoTVZrYtqinc",
        "colab": {
          "base_uri": "https://localhost:8080/"
        },
        "outputId": "818ad269-6ffc-4d5b-eee6-e8e4bfd47d47"
      },
      "outputs": [
        {
          "output_type": "stream",
          "name": "stdout",
          "text": [
            "data 입력 : Bad news travels fast\n",
            "Bad\n",
            "news\n",
            "travels\n",
            "fast\n"
          ]
        }
      ],
      "source": [
        "#실습문제 01\n",
        "#입력 문자열\n",
        "string = input(\"data 입력 : \")\n",
        "\n",
        "#문자열을 리스트로 변환\n",
        "string = string.split()\n",
        "\n",
        "#파일명 설정\n",
        "file_name = \"ex_01.txt\"\n",
        "\n",
        "#파일에 리스트 항목을 저장\n",
        "f = open(file_name, \"w\")\n",
        "for i in string:\n",
        "    f.write(i + \"\\n\")\n",
        "f.close()\n",
        "\n",
        "#파일의 저장된 내용 출력\n",
        "f = open(file_name, \"r\")\n",
        "print(f.read(), end = '')\n",
        "f.close()"
      ]
    },
    {
      "cell_type": "code",
      "source": [
        "#실습문제 02\n",
        "import random as rd\n",
        "\n",
        "#파일명 설정\n",
        "file_name = \"ex_02.txt\"\n",
        "\n",
        "#파일에 [1, 45] 사이의 난수 저장(10개씩 10 라인으로 총 100개)\n",
        "f = open(file_name, \"w\")\n",
        "for i in range(10):\n",
        "    f.write(\"\\n\")\n",
        "    for j in range(10):\n",
        "        num = rd.randint(1, 45)\n",
        "        f.write(str(num) + \" \")\n",
        "f.close()\n",
        "\n",
        "#파일의 저장된 내용 출력\n",
        "f = open(file_name, \"r\")\n",
        "print(f.read(), end = '')\n",
        "f.close()"
      ],
      "metadata": {
        "colab": {
          "base_uri": "https://localhost:8080/"
        },
        "id": "WwNpTM3Atu2U",
        "outputId": "0daf065e-1959-4799-8c94-9f8d7fdd3d22"
      },
      "execution_count": null,
      "outputs": [
        {
          "output_type": "stream",
          "name": "stdout",
          "text": [
            "\n",
            "8 8 44 10 4 17 30 33 13 24 \n",
            "34 1 39 19 15 33 41 2 34 35 \n",
            "40 28 4 10 34 13 21 13 41 5 \n",
            "19 38 21 25 40 27 36 35 8 42 \n",
            "12 16 15 24 25 6 25 39 20 33 \n",
            "44 33 35 18 43 29 38 12 35 7 \n",
            "44 37 39 16 25 43 40 8 40 12 \n",
            "41 10 24 36 10 28 5 7 17 28 \n",
            "3 34 29 22 45 17 4 7 39 36 \n",
            "41 36 24 5 13 4 19 17 33 25 "
          ]
        }
      ]
    },
    {
      "cell_type": "code",
      "source": [
        "#실습문제 03\n",
        "import random as rd\n",
        "\n",
        "#빈도수 리스트 생성\n",
        "print(\"빈도수 카운트 전\")\n",
        "freq = [0] * 46\n",
        "print(freq)\n",
        "\n",
        "#파일명 설정\n",
        "file_name = \"ex_03.txt\"\n",
        "\n",
        "#파일에 [1, 45] 사이의 난수 저장(10개씩 10라인으로 총 100개)\n",
        "f = open(file_name, \"w\")\n",
        "for i in range(10):\n",
        "    f.write(\"\\n\")\n",
        "    for j in range(10):\n",
        "        num = rd.randint(1, 45)\n",
        "        f.write(str(num) + \" \")\n",
        "f.close()\n",
        "\n",
        "#파일의 저장된 내용 출력\n",
        "print(\" \")\n",
        "f = open(file_name, \"r\")\n",
        "print(\"파일 내용\" + f.read())\n",
        "\n",
        "#빈도수 계산\n",
        "f = open(file_name, \"r\")\n",
        "lines = f.readlines()\n",
        "for line in lines:\n",
        "    for num in line.split():\n",
        "        freq[int(num)] += 1\n",
        "f.close()\n",
        "\n",
        "#빈도수 출력\n",
        "print(\" \")\n",
        "print(\"빈도수 카운트 후\")\n",
        "print(freq)"
      ],
      "metadata": {
        "colab": {
          "base_uri": "https://localhost:8080/"
        },
        "id": "ZrP0B6viwJO7",
        "outputId": "f13af013-7680-4a35-92da-f100d06607fe"
      },
      "execution_count": null,
      "outputs": [
        {
          "output_type": "stream",
          "name": "stdout",
          "text": [
            "빈도수 카운트 전\n",
            "[0, 0, 0, 0, 0, 0, 0, 0, 0, 0, 0, 0, 0, 0, 0, 0, 0, 0, 0, 0, 0, 0, 0, 0, 0, 0, 0, 0, 0, 0, 0, 0, 0, 0, 0, 0, 0, 0, 0, 0, 0, 0, 0, 0, 0, 0]\n",
            " \n",
            "파일 내용\n",
            "42 7 23 31 31 30 45 21 19 17 \n",
            "13 29 1 38 25 3 44 7 23 45 \n",
            "38 17 32 3 13 40 26 15 18 36 \n",
            "12 30 45 36 11 13 25 33 14 17 \n",
            "13 22 35 13 12 6 4 44 10 23 \n",
            "27 15 32 33 26 29 28 44 32 30 \n",
            "40 1 37 7 39 35 31 22 35 39 \n",
            "12 37 24 44 16 32 7 33 27 19 \n",
            "15 39 25 33 5 27 42 28 18 39 \n",
            "28 1 14 23 36 32 14 41 17 43 \n",
            " \n",
            "빈도수 카운트 후\n",
            "[0, 3, 0, 2, 1, 1, 1, 4, 0, 0, 1, 1, 3, 5, 3, 3, 1, 4, 2, 2, 0, 1, 2, 4, 1, 3, 2, 3, 3, 2, 3, 3, 5, 4, 0, 3, 3, 2, 2, 4, 2, 1, 2, 1, 4, 3]\n"
          ]
        }
      ]
    },
    {
      "cell_type": "code",
      "source": [
        "#실습문제 04\n",
        "#파일명 설정\n",
        "file_name = \"ex_04.txt\"\n",
        "\n",
        "#파일 내용 작성 및 저장\n",
        "f = open(file_name, \"w\")\n",
        "f.write(\"All\\'s well that ends well.\\n\")\n",
        "f.write(\"Bad news travels fast.\\n\")\n",
        "f.write(\"Well begun is half done.\\n\")\n",
        "f.write(\"Birds of a feather flock together.\\n\")\n",
        "f.close()\n",
        "\n",
        "#파일 내용 한 줄씩 출력\n",
        "f = open(file_name, \"r\")\n",
        "lines = f.readlines()\n",
        "for line in lines:\n",
        "    print(line, end = '')\n",
        "    line = line.split() #단어 리스트 생성\n",
        "    print(line)\n",
        "    for j in line: #리스트의 단어들 출력\n",
        "        print(j)\n",
        "f.close()"
      ],
      "metadata": {
        "colab": {
          "base_uri": "https://localhost:8080/"
        },
        "id": "5cywMY3VyQql",
        "outputId": "aa5fe396-ba7d-4447-8539-c56b89bb9e58"
      },
      "execution_count": null,
      "outputs": [
        {
          "output_type": "stream",
          "name": "stdout",
          "text": [
            "All's well that ends well.\n",
            "[\"All's\", 'well', 'that', 'ends', 'well.']\n",
            "All's\n",
            "well\n",
            "that\n",
            "ends\n",
            "well.\n",
            "Bad news travels fast.\n",
            "['Bad', 'news', 'travels', 'fast.']\n",
            "Bad\n",
            "news\n",
            "travels\n",
            "fast.\n",
            "Well begun is half done.\n",
            "['Well', 'begun', 'is', 'half', 'done.']\n",
            "Well\n",
            "begun\n",
            "is\n",
            "half\n",
            "done.\n",
            "Birds of a feather flock together.\n",
            "['Birds', 'of', 'a', 'feather', 'flock', 'together.']\n",
            "Birds\n",
            "of\n",
            "a\n",
            "feather\n",
            "flock\n",
            "together.\n"
          ]
        }
      ]
    }
  ]
}