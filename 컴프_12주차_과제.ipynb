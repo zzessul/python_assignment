{
  "nbformat": 4,
  "nbformat_minor": 0,
  "metadata": {
    "colab": {
      "provenance": [],
      "authorship_tag": "ABX9TyNK7gVlDTF5EfOmlC2jRBIx",
      "include_colab_link": true
    },
    "kernelspec": {
      "name": "python3",
      "display_name": "Python 3"
    },
    "language_info": {
      "name": "python"
    }
  },
  "cells": [
    {
      "cell_type": "markdown",
      "metadata": {
        "id": "view-in-github",
        "colab_type": "text"
      },
      "source": [
        "<a href=\"https://colab.research.google.com/github/zzessul/python_assignment/blob/main/%EC%BB%B4%ED%94%84_12%EC%A3%BC%EC%B0%A8_%EA%B3%BC%EC%A0%9C.ipynb\" target=\"_parent\"><img src=\"https://colab.research.google.com/assets/colab-badge.svg\" alt=\"Open In Colab\"/></a>"
      ]
    },
    {
      "cell_type": "code",
      "execution_count": null,
      "metadata": {
        "colab": {
          "base_uri": "https://localhost:8080/"
        },
        "id": "c9BZG3XaXYF-",
        "outputId": "7ae3dd43-a5a5-43d4-bd8c-4e32d071d7ef"
      },
      "outputs": [
        {
          "output_type": "stream",
          "name": "stdout",
          "text": [
            "시행 횟수 입력 : 10000\n",
            "randrange() 사용\n",
            "눈    빈도수   확률\n",
            "1    1669    0.1669\n",
            "2    1686    0.1686\n",
            "3    1696    0.1696\n",
            "4    1655    0.1655\n",
            "5    1661    0.1661\n",
            "6    1633    0.1633\n",
            "시행 횟수 입력 : 10000\n",
            "randint() 사용\n",
            "눈    빈도수   확률\n",
            "1    1645    0.1645\n",
            "2    1645    0.1645\n",
            "3    1652    0.1652\n",
            "4    1711    0.1711\n",
            "5    1699    0.1699\n",
            "6    1648    0.1648\n"
          ]
        }
      ],
      "source": [
        "#실습문제 01\n",
        "import random as rd\n",
        "\n",
        "#빈도수 딕셔너리\n",
        "rr_cnt = {'1' : 0, '2' : 0, '3' : 0, '4' : 0, '5' : 0, '6' : 0}\n",
        "ri_cnt = {'1' : 0, '2' : 0, '3' : 0, '4' : 0, '5' : 0, '6' : 0}\n",
        "\n",
        "#randrange 함수 사용\n",
        "#시행 횟수 입력\n",
        "rr_num = int(input(\"시행 횟수 입력 : \"))\n",
        "print(\"randrange() 사용\")\n",
        "\n",
        "#주사위 눈의 빈도수\n",
        "for i in range(rr_num):\n",
        "  n_dice = rd.randrange(1, 7)\n",
        "  if n_dice == 1:\n",
        "    rr_cnt['1'] += 1\n",
        "  elif n_dice == 2:\n",
        "    rr_cnt['2'] += 1\n",
        "  elif n_dice == 3:\n",
        "    rr_cnt['3'] += 1\n",
        "  elif n_dice == 4:\n",
        "    rr_cnt['4'] += 1\n",
        "  elif n_dice == 5:\n",
        "    rr_cnt['5'] += 1\n",
        "  else:\n",
        "    rr_cnt['6'] += 1\n",
        "\n",
        "#주사위 눈의 빈도수 및 확률 출력\n",
        "print(\"눈    빈도수   확률\")\n",
        "for j in range(1, 7):\n",
        "  prob = rr_cnt[str(j)] / rr_num\n",
        "  print(f\"{j}    {rr_cnt[str(j)]:4d}    {prob:6.4f}\")\n",
        "\n",
        "#randint 함수 사용\n",
        "#시행 횟수 입력\n",
        "ri_num = int(input(\"시행 횟수 입력 : \"))\n",
        "print(\"randint() 사용\")\n",
        "\n",
        "#주사위 눈의 빈도수\n",
        "for k in range(ri_num):\n",
        "  n_dice = rd.randint(1, 6)\n",
        "  if n_dice == 1:\n",
        "    ri_cnt['1'] += 1\n",
        "  elif n_dice == 2:\n",
        "    ri_cnt['2'] += 1\n",
        "  elif n_dice == 3:\n",
        "    ri_cnt['3'] += 1\n",
        "  elif n_dice == 4:\n",
        "    ri_cnt['4'] += 1\n",
        "  elif n_dice == 5:\n",
        "    ri_cnt['5'] += 1\n",
        "  else:\n",
        "    ri_cnt['6'] += 1\n",
        "\n",
        "#주사위 눈의 빈도수 및 확률 출력\n",
        "print(\"눈    빈도수   확률\")\n",
        "for l in range(1, 7):\n",
        "  prob = ri_cnt[str(l)] / ri_num\n",
        "  print(f\"{l}    {ri_cnt[str(l)]:4d}    {prob:6.4f}\")"
      ]
    },
    {
      "cell_type": "code",
      "source": [
        "#실습문제 02\n",
        "import random as rd\n",
        "\n",
        "#점심 메뉴 종류\n",
        "menu_list = ['돈가스', '짜장면', '파스타', '제육볶음', '라멘', '김치찌개']\n",
        "\n",
        "#랜덤하게 점심 메뉴 선택\n",
        "num = int(input(\"메뉴 개수 입력 : \"))\n",
        "\n",
        "select_menu = []\n",
        "for i in range(num):\n",
        "  select_menu.append((rd.choice(menu_list)))\n",
        "\n",
        "print(\"선택한 메뉴 :\")\n",
        "print(select_menu)"
      ],
      "metadata": {
        "colab": {
          "base_uri": "https://localhost:8080/"
        },
        "id": "AqBVebdmsFR_",
        "outputId": "049cb871-171f-4ad8-91ba-54883b15c3dc"
      },
      "execution_count": null,
      "outputs": [
        {
          "output_type": "stream",
          "name": "stdout",
          "text": [
            "메뉴 개수 입력 : 12\n",
            "선택한 메뉴 :\n",
            "['파스타', '라멘', '짜장면', '돈가스', '라멘', '돈가스', '짜장면', '파스타', '돈가스', '제육볶음', '제육볶음', '파스타']\n"
          ]
        }
      ]
    },
    {
      "cell_type": "code",
      "source": [
        "#실습문제 03\n",
        "import random as rd\n",
        "\n",
        "#문자열을 입력 받은 단어의 리스트\n",
        "string = input(\"문자열 입력 : \")\n",
        "string = string.split()\n",
        "\n",
        "#랜덤하게 섞은 단어의 리스트\n",
        "lst = list(string)\n",
        "rd.shuffle(lst)\n",
        "\n",
        "#두 개의 리스트 출력\n",
        "print(' ')\n",
        "print(string)\n",
        "print(lst)\n",
        "\n",
        "#같은 위치에 있는 단어의 개수 출력\n",
        "cnt = 0\n",
        "\n",
        "for i in range(len(string)):\n",
        "  if string[i] == lst[i]:\n",
        "    cnt += 1\n",
        "  else:\n",
        "    None\n",
        "\n",
        "print(f\"중복된 단어 수 : {cnt}개\")"
      ],
      "metadata": {
        "colab": {
          "base_uri": "https://localhost:8080/"
        },
        "id": "mint2oJCvaib",
        "outputId": "6865e969-24ca-4bbd-e931-70939a781bb5"
      },
      "execution_count": null,
      "outputs": [
        {
          "output_type": "stream",
          "name": "stdout",
          "text": [
            "문자열 입력 : Oh if you need a friend I’m sailing right behind like a bridge over troubled water I will ease your mind like a bridge over I troubled water I will ease your mind\n",
            " \n",
            "['Oh', 'if', 'you', 'need', 'a', 'friend', 'I’m', 'sailing', 'right', 'behind', 'like', 'a', 'bridge', 'over', 'troubled', 'water', 'I', 'will', 'ease', 'your', 'mind', 'like', 'a', 'bridge', 'over', 'I', 'troubled', 'water', 'I', 'will', 'ease', 'your', 'mind']\n",
            "['need', 'will', 'water', 'right', 'Oh', 'mind', 'I', 'sailing', 'your', 'friend', 'bridge', 'over', 'mind', 'a', 'I', 'you', 'over', 'behind', 'if', 'ease', 'I', 'like', 'ease', 'like', 'troubled', 'a', 'bridge', 'your', 'troubled', 'a', 'water', 'I’m', 'will']\n",
            "중복된 단어 수 : 2개\n"
          ]
        }
      ]
    }
  ]
}