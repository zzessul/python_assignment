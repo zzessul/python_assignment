{
  "nbformat": 4,
  "nbformat_minor": 0,
  "metadata": {
    "colab": {
      "provenance": [],
      "authorship_tag": "ABX9TyPYbZBJzOLc0gjT7UWRW6jy",
      "include_colab_link": true
    },
    "kernelspec": {
      "name": "python3",
      "display_name": "Python 3"
    },
    "language_info": {
      "name": "python"
    }
  },
  "cells": [
    {
      "cell_type": "markdown",
      "metadata": {
        "id": "view-in-github",
        "colab_type": "text"
      },
      "source": [
        "<a href=\"https://colab.research.google.com/github/zzessul/python_assignment/blob/main/%EC%BB%B4%ED%94%84_%EA%B3%BC%EC%A0%9C.ipynb\" target=\"_parent\"><img src=\"https://colab.research.google.com/assets/colab-badge.svg\" alt=\"Open In Colab\"/></a>"
      ]
    },
    {
      "cell_type": "code",
      "source": [
        "s = input(\"문자 입력 : \")\n",
        "n = int(input(\"개수 입력 : \"))\n",
        "\n",
        "print(s * n)"
      ],
      "metadata": {
        "id": "l35h8Z2EWkC6",
        "colab": {
          "base_uri": "https://localhost:8080/"
        },
        "outputId": "c7ac1ab8-7ab9-42a2-a039-f32d2a144fa2"
      },
      "execution_count": null,
      "outputs": [
        {
          "output_type": "stream",
          "name": "stdout",
          "text": [
            "문자 입력 : *\n",
            "개수 입력 : 5\n",
            "*****\n"
          ]
        }
      ]
    },
    {
      "cell_type": "code",
      "source": [
        "weight = float(input(\"체중 입력(kg) : \"))\n",
        "height = float(input(\"신장 입력(cm) : \"))\n",
        "\n",
        "print(f\"{weight:.2f}kg => {weight / 0.45359:.2f}pound\")\n",
        "print(f\"{height:.2f}cm => {height / 30.48:0>5.2f}feet\")"
      ],
      "metadata": {
        "id": "pZ-QH5gAxuSu",
        "colab": {
          "base_uri": "https://localhost:8080/"
        },
        "outputId": "ffcff92b-9a53-486c-882e-e9335fae1d40"
      },
      "execution_count": null,
      "outputs": [
        {
          "output_type": "stream",
          "name": "stdout",
          "text": [
            "체중 입력(kg) : 79\n",
            "신장 입력(cm) : 179.5\n",
            "79.00kg => 174.17pound\n",
            "179.50cm => 05.89feet\n"
          ]
        }
      ]
    },
    {
      "cell_type": "code",
      "source": [
        "r = float(input(\"반지름 입력 : \"))\n",
        "π = 3.141592\n",
        "a = π*r**2\n",
        "c = 2*π*r\n",
        "\n",
        "print(123456789012345678901234567890)\n",
        "print(f\"r:{r:0>7.3f}|a:{a:0>7.3f}|c:{c:0>7.3f}\")"
      ],
      "metadata": {
        "colab": {
          "base_uri": "https://localhost:8080/"
        },
        "id": "TmByteYzASef",
        "outputId": "a1880e1a-ed60-4c6a-d4fe-0f3402f37bd5"
      },
      "execution_count": null,
      "outputs": [
        {
          "output_type": "stream",
          "name": "stdout",
          "text": [
            "반지름 입력 : 5.5\n",
            "123456789012345678901234567890\n",
            "r:005.500|a:095.033|c:034.558\n"
          ]
        }
      ]
    },
    {
      "cell_type": "code",
      "source": [
        "code = \"최서린\"\n",
        "name = input(\"이름입력 : \")\n",
        "\n",
        "if name == code:\n",
        "  print(\"출입가능\")\n",
        "else:\n",
        "  print(\"출입통제\")"
      ],
      "metadata": {
        "colab": {
          "base_uri": "https://localhost:8080/"
        },
        "id": "aRX5ifkUE6GI",
        "outputId": "8a9040c0-7c61-4df5-dfc8-38c568d1192b"
      },
      "execution_count": null,
      "outputs": [
        {
          "output_type": "stream",
          "name": "stdout",
          "text": [
            "이름입력 : 김성령\n",
            "출입통제\n"
          ]
        }
      ]
    },
    {
      "cell_type": "code",
      "source": [
        "code = \"0610\"\n",
        "number = input(\"비밀번호 네 자리를 입력하시오 : \")\n",
        "\n",
        "if number == code:\n",
        "  print(\"한 개의 메세지\")\n",
        "else:\n",
        "  print(\"잘못 입력 하셨습니다.\")"
      ],
      "metadata": {
        "colab": {
          "base_uri": "https://localhost:8080/"
        },
        "id": "7TrKvH2AFlUs",
        "outputId": "30cb9100-6533-4281-8142-b74f9e908fbe"
      },
      "execution_count": null,
      "outputs": [
        {
          "output_type": "stream",
          "name": "stdout",
          "text": [
            "비밀번호 네 자리를 입력하시오 : 0610\n",
            "한 개의 메세지\n"
          ]
        }
      ]
    },
    {
      "cell_type": "code",
      "source": [
        "a = int(input(\"a 성분의 함량을 입력(mg) : \"))\n",
        "b = int(input(\"b 성분의 함량을 입력(mg) : \"))\n",
        "c = int(input(\"c 성분의 함량을 입력(mg) : \"))\n",
        "\n",
        "if a >= 40 and b >= 350 and c >= 17:\n",
        "  print(\"생산을 허가함\")\n",
        "else:\n",
        "  print(\"허가를 보류함\")"
      ],
      "metadata": {
        "colab": {
          "base_uri": "https://localhost:8080/"
        },
        "id": "QnhYUgSzGYWA",
        "outputId": "a8dfe180-3a56-46a5-f768-9582ecfeedb0"
      },
      "execution_count": null,
      "outputs": [
        {
          "output_type": "stream",
          "name": "stdout",
          "text": [
            "a 성분의 함량을 입력(mg) : 100\n",
            "b 성분의 함량을 입력(mg) : 425\n",
            "c 성분의 함량을 입력(mg) : 30\n",
            "생산을 허가함\n"
          ]
        }
      ]
    },
    {
      "cell_type": "code",
      "source": [
        "print(\"True : 짝수, False : 홀수\")\n",
        "n = int(input(\"정수 입력 : \"))\n",
        "\n",
        "if n % 2 == 0:\n",
        "  print(\"정수 {} : True\".format(n))\n",
        "else:\n",
        "  print(\"정수 {} : False\".format(n))"
      ],
      "metadata": {
        "colab": {
          "base_uri": "https://localhost:8080/"
        },
        "id": "YVBVsFqiHWIs",
        "outputId": "c8cacf19-221e-42e7-ae44-d0fc2e5421ce"
      },
      "execution_count": null,
      "outputs": [
        {
          "output_type": "stream",
          "name": "stdout",
          "text": [
            "True : 짝수, False : 홀수\n",
            "정수 입력 : 56\n",
            "정수 56 : True\n"
          ]
        }
      ]
    },
    {
      "cell_type": "code",
      "source": [
        "month = int(input(\"출생 후 몇 개월이 경과되었습니까? : \"))\n",
        "\n",
        "if month <= 1:\n",
        "  print(\"결핵\\nB형 간염\")\n",
        "elif month <= 2:\n",
        "  print(\"B형 간염\\n파상풍\\n폐렴구균\")\n",
        "elif month <= 6:\n",
        "  print(\"파상풍\\n폐렴구균\")\n",
        "elif month <= 15:\n",
        "  print(\"폐렴구균\")\n",
        "else:\n",
        "  None"
      ],
      "metadata": {
        "colab": {
          "base_uri": "https://localhost:8080/"
        },
        "id": "g4rCznjDIlVn",
        "outputId": "9f16a3de-3cb9-4f87-9d56-914cdf30b062"
      },
      "execution_count": null,
      "outputs": [
        {
          "output_type": "stream",
          "name": "stdout",
          "text": [
            "출생 후 몇 개월이 경과되었습니까? : 5\n",
            "파상풍\n",
            "폐렴구균\n"
          ]
        }
      ]
    },
    {
      "cell_type": "code",
      "source": [
        "name = input(\"이름을 입력하세요 : \")\n",
        "height = int(input(\"키(cm)를 입력하세요 : \"))\n",
        "weight = int(input(\"몸무게(kg)를 입력하세요 : \"))\n",
        "BMI = weight / ((height*0.01)**2)\n",
        "\n",
        "print(f\"{name}님의 키는 {height} cm이고 몸무게는 {weight}kg 입니다.\")\n",
        "\n",
        "if BMI <= 22.9:\n",
        "  print(f\"BMI 지수는 {BMI} 입니다. 정상 입니다.\")\n",
        "elif BMI <= 24.9:\n",
        "  print(f\"BMI 지수는 {BMI} 입니다. 과체중 입니다.\")\n",
        "elif BMI <= 29.9:\n",
        "  print(f\"BMI 지수는 {BMI} 입니다. 비만 입니다.\")\n",
        "else:\n",
        "  print(f\"BMI 지수는 {BMI} 입니다. 고도비만 입니다.\")"
      ],
      "metadata": {
        "colab": {
          "base_uri": "https://localhost:8080/"
        },
        "id": "hhPrPwdbxnH1",
        "outputId": "b07c565d-8691-4d5e-bf98-6e250ee0cf28"
      },
      "execution_count": null,
      "outputs": [
        {
          "output_type": "stream",
          "name": "stdout",
          "text": [
            "이름을 입력하세요 : 파이썬\n",
            "키(cm)를 입력하세요 : 176\n",
            "몸무게(kg)를 입력하세요 : 73\n",
            "파이썬님의 키는 176 cm이고 몸무게는 73kg 입니다.\n",
            "BMI 지수는 23.56663223140496 입니다. 과체중 입니다.\n"
          ]
        }
      ]
    },
    {
      "cell_type": "markdown",
      "source": [],
      "metadata": {
        "id": "owEdkvJhWnvc"
      }
    }
  ]
}